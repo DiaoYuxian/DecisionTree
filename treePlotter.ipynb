{
 "cells": [
  {
   "cell_type": "code",
   "execution_count": 1,
   "metadata": {
    "collapsed": true
   },
   "outputs": [],
   "source": [
    "import matplotlib.pyplot as plt\n",
    "decisionNode = dict(boxstyle = \"sawtooth\",fc=\"0.8\")\n",
    "leafNode = dict(boxstyle = \"round4\",fc=\"0.8\")\n",
    "arrow_args = dict(arrowstyle = \"<-\")"
   ]
  },
  {
   "cell_type": "code",
   "execution_count": 41,
   "metadata": {
    "collapsed": true
   },
   "outputs": [],
   "source": [
    "def plotNode(nodeTxt,centerPt,parentPt,nodeType):  #注释文字，注释文字坐标，被注释坐标，结点类型\n",
    "    createPlot.ax1.annotate(nodeTxt,xy=parentPt,xycoords='axes fraction',xytext=centerPt,textcoords='axes fraction',\\\n",
    "                          va=\"center\",ha=\"center\",bbox=nodeType,arrowprops=arrow_args)\n",
    "    #xycoords='axes fraction' 坐标原点位于左下角，textcoords='axes fraction'注释文字偏移量\n",
    "    #bbox=nodeType给注释文字加外框"
   ]
  },
  {
   "cell_type": "code",
   "execution_count": 29,
   "metadata": {
    "collapsed": true
   },
   "outputs": [],
   "source": [
    "def getNumLeafs(myTree):\n",
    "    numLeafs = 0\n",
    "    myTreeKeys = list(myTree.keys())\n",
    "    firstStr = myTreeKeys[0] #根结点\n",
    "    secondDict = myTree[firstStr]  #根结点的孩子\n",
    "    for key in secondDict.keys():\n",
    "        if type(secondDict[key]).__name__ == 'dict':  #如果该节点的value（即孩子节点）还是dict则遍历该子树\n",
    "            numLeafs += getNumLeafs(secondDict[key])\n",
    "        else:\n",
    "            numLeafs += 1   #子节点为叶子结点则暂停遍历\n",
    "    return numLeafs                "
   ]
  },
  {
   "cell_type": "code",
   "execution_count": 39,
   "metadata": {
    "collapsed": true
   },
   "outputs": [],
   "source": [
    "def getTreeDepth(myTree):\n",
    "    maxDepth = 0\n",
    "    myTreeKeys = list(myTree.keys())\n",
    "    firstStr = myTreeKeys[0] #根结点\n",
    "    secondDict = myTree[firstStr]\n",
    "    for key in secondDict.keys():\n",
    "        if type(secondDict[key]).__name__ == 'dict':\n",
    "            thisDepth = 1 + getTreeDepth(secondDict[key])\n",
    "        else:\n",
    "            thisDepth = 1\n",
    "            if thisDepth > maxDepth: maxDepth = thisDepth\n",
    "    return maxDepth"
   ]
  },
  {
   "cell_type": "code",
   "execution_count": 20,
   "metadata": {
    "collapsed": true
   },
   "outputs": [],
   "source": [
    "def retrieveTree(i):\n",
    "    listOfTree = [{'no surfacing': {0: 'no', 1: {'flippers': {0: 'no', 1: 'yes'}}}},\n",
    "                 {'no surfacing': {0: 'no', 1: {'flippers': {0: {'head':{0:'no',1:'yes'}},1:'no'}}}}\n",
    "                 ]\n",
    "    return listOfTree[i]"
   ]
  },
  {
   "cell_type": "code",
   "execution_count": 5,
   "metadata": {
    "collapsed": true
   },
   "outputs": [],
   "source": [
    "def plotMidText(cntrPt,parentPt,txtString):  #在父子结点之间填充文本信息\n",
    "    xMid = (parentPt[0] - cntrPt[0]) / 2.0 + cntrPt[0]\n",
    "    yMid = (parentPt[1] - cntrPt[1]) / 2.0 + cntrPt[1]\n",
    "    createPlot.ax1.text(xMid,yMid,txtString)"
   ]
  },
  {
   "cell_type": "code",
   "execution_count": 43,
   "metadata": {
    "collapsed": true
   },
   "outputs": [],
   "source": [
    "def plotTree(myTree,parentPt,nodeTxt):\n",
    "    numLeafs = getNumLeafs(myTree) #叶子结点个数\n",
    "    depth = getTreeDepth(myTree) #深度\n",
    "    myTreeKeys = list(myTree.keys())\n",
    "    firstStr = myTreeKeys[0] #根结点\n",
    "    cntrPt = (plotTree.xOff + (1.0 + float(numLeafs)) / 2.0 / plotTree.totalW,plotTree.yOff)\n",
    "    plotMidText(cntrPt,parentPt,nodeTxt)  #第一次的时候cntrPt和parentPt是同一个点，什么都没画\n",
    "    plotNode(firstStr,cntrPt,parentPt,decisionNode) \n",
    "    secondDict = myTree[firstStr]\n",
    "    plotTree.yOff = plotTree.yOff - 1.0 / plotTree.totalD #下一层结点的y坐标\n",
    "    for key in secondDict.keys():\n",
    "        if type(secondDict[key]).__name__ == 'dict':\n",
    "            plotTree(secondDict[key],cntrPt,str(key))  #孩子还是树就画出该子树\n",
    "        else:\n",
    "            plotTree.xOff = plotTree.xOff + 1.0 / plotTree.totalW\n",
    "            plotNode(secondDict[key],(plotTree.xOff,plotTree.yOff),cntrPt,leafNode)  #孩子是叶子结点画出该叶结点\n",
    "            plotMidText((plotTree.xOff,plotTree.yOff),cntrPt,str(key))\n",
    "    plotTree.yOff = plotTree.yOff + 1.0 / plotTree.totalD  #？？？       "
   ]
  },
  {
   "cell_type": "code",
   "execution_count": 45,
   "metadata": {
    "collapsed": true
   },
   "outputs": [],
   "source": [
    "def createPlot(inTree):\n",
    "    fig = plt.figure(1,facecolor = 'white')\n",
    "    fig.clf()  #clear figure\n",
    "    axprops = dict(xticks = [],yticks = [])\n",
    "    createPlot.ax1 = plt.subplot(111,frameon = False,**axprops) ##???\n",
    "    plotTree.totalW = float(getNumLeafs(inTree))\n",
    "    plotTree.totalD = float(getTreeDepth(inTree))\n",
    "    plotTree.xOff = -0.5 / plotTree.totalW\n",
    "    plotTree.yOff = 1.0\n",
    "    plotTree(inTree,(0.5,1.0),'')\n",
    "    plt.show()"
   ]
  },
  {
   "cell_type": "code",
   "execution_count": 1,
   "metadata": {},
   "outputs": [
    {
     "name": "stderr",
     "output_type": "stream",
     "text": [
      "[NbConvertApp] Converting notebook treePlotter.ipynb to python\n",
      "[NbConvertApp] Writing 3674 bytes to treePlotter.py\n"
     ]
    }
   ],
   "source": [
    "try:    \n",
    "    !jupyter nbconvert --to python treePlotter.ipynb\n",
    "    # python即转化为.py，script即转化为.html\n",
    "    # file_name.ipynb即当前module的文件名\n",
    "except:\n",
    "    pass"
   ]
  },
  {
   "cell_type": "code",
   "execution_count": 50,
   "metadata": {
    "collapsed": true
   },
   "outputs": [],
   "source": [
    "#myTree = retrieveTree(0)\n",
    "#getNumLeafs(myTree)\n",
    "#createPlot(myTree)"
   ]
  },
  {
   "cell_type": "code",
   "execution_count": null,
   "metadata": {
    "collapsed": true
   },
   "outputs": [],
   "source": []
  },
  {
   "cell_type": "code",
   "execution_count": null,
   "metadata": {
    "collapsed": true
   },
   "outputs": [],
   "source": []
  }
 ],
 "metadata": {
  "kernelspec": {
   "display_name": "Python 3",
   "language": "python",
   "name": "python3"
  },
  "language_info": {
   "codemirror_mode": {
    "name": "ipython",
    "version": 3
   },
   "file_extension": ".py",
   "mimetype": "text/x-python",
   "name": "python",
   "nbconvert_exporter": "python",
   "pygments_lexer": "ipython3",
   "version": "3.6.1"
  }
 },
 "nbformat": 4,
 "nbformat_minor": 2
}
